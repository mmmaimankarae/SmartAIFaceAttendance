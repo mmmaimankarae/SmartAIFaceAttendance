{
 "cells": [
  {
   "cell_type": "code",
   "execution_count": 1,
   "metadata": {},
   "outputs": [
    {
     "ename": "FileNotFoundError",
     "evalue": "[Errno 2] No such file or directory: 'path_to_image_folder'",
     "output_type": "error",
     "traceback": [
      "\u001b[0;31m---------------------------------------------------------------------------\u001b[0m",
      "\u001b[0;31mFileNotFoundError\u001b[0m                         Traceback (most recent call last)",
      "\u001b[1;32m/Users/teacha/Documents/Code/SmartAIFaceAttendance/test.ipynb Cell 1\u001b[0m line \u001b[0;36m1\n\u001b[1;32m     <a href='vscode-notebook-cell:/Users/teacha/Documents/Code/SmartAIFaceAttendance/test.ipynb#W0sZmlsZQ%3D%3D?line=9'>10</a>\u001b[0m     os\u001b[39m.\u001b[39mmkdir(train_data_folder)\n\u001b[1;32m     <a href='vscode-notebook-cell:/Users/teacha/Documents/Code/SmartAIFaceAttendance/test.ipynb#W0sZmlsZQ%3D%3D?line=11'>12</a>\u001b[0m \u001b[39m# วนลูปผ่านโฟลเดอร์ของรูปภาพ\u001b[39;00m\n\u001b[0;32m---> <a href='vscode-notebook-cell:/Users/teacha/Documents/Code/SmartAIFaceAttendance/test.ipynb#W0sZmlsZQ%3D%3D?line=12'>13</a>\u001b[0m \u001b[39mfor\u001b[39;00m person_folder \u001b[39min\u001b[39;00m os\u001b[39m.\u001b[39;49mlistdir(image_folder):\n\u001b[1;32m     <a href='vscode-notebook-cell:/Users/teacha/Documents/Code/SmartAIFaceAttendance/test.ipynb#W0sZmlsZQ%3D%3D?line=13'>14</a>\u001b[0m     \u001b[39mif\u001b[39;00m os\u001b[39m.\u001b[39mpath\u001b[39m.\u001b[39misdir(os\u001b[39m.\u001b[39mpath\u001b[39m.\u001b[39mjoin(image_folder, person_folder)):\n\u001b[1;32m     <a href='vscode-notebook-cell:/Users/teacha/Documents/Code/SmartAIFaceAttendance/test.ipynb#W0sZmlsZQ%3D%3D?line=14'>15</a>\u001b[0m         \u001b[39m# สร้างโฟลเดอร์ปลายทางสำหรับแต่ละบุคคล\u001b[39;00m\n\u001b[1;32m     <a href='vscode-notebook-cell:/Users/teacha/Documents/Code/SmartAIFaceAttendance/test.ipynb#W0sZmlsZQ%3D%3D?line=15'>16</a>\u001b[0m         person_train_folder \u001b[39m=\u001b[39m os\u001b[39m.\u001b[39mpath\u001b[39m.\u001b[39mjoin(train_data_folder, person_folder)\n",
      "\u001b[0;31mFileNotFoundError\u001b[0m: [Errno 2] No such file or directory: 'path_to_image_folder'"
     ]
    }
   ],
   "source": [
    "import os\n",
    "import shutil\n",
    "\n",
    "# กำหนดโฟลเดอร์ของรูปภาพและโฟลเดอร์ปลายทางสำหรับข้อมูลการเทรน\n",
    "image_folder = 'path_to_image_folder'\n",
    "train_data_folder = 'path_to_train_data_folder'\n",
    "\n",
    "# สร้างโฟลเดอร์ปลายทางถ้ายังไม่มี\n",
    "if not os.path.exists(train_data_folder):\n",
    "    os.mkdir(train_data_folder)\n",
    "\n",
    "# วนลูปผ่านโฟลเดอร์ของรูปภาพ\n",
    "for person_folder in os.listdir(image_folder):\n",
    "    if os.path.isdir(os.path.join(image_folder, person_folder)):\n",
    "        # สร้างโฟลเดอร์ปลายทางสำหรับแต่ละบุคคล\n",
    "        person_train_folder = os.path.join(train_data_folder, person_folder)\n",
    "        if not os.path.exists(person_train_folder):\n",
    "            os.mkdir(person_train_folder)\n",
    "\n",
    "        # วนลูปผ่านรูปภาพของบุคคล\n",
    "        for filename in os.listdir(os.path.join(image_folder, person_folder)):\n",
    "            if filename.endswith('.jpg'):\n",
    "                image_path = os.path.join(image_folder, person_folder, filename)\n",
    "                destination_path = os.path.join(person_train_folder, filename)\n",
    "\n",
    "                # คัดลอกรูปภาพไปยังโฟลเดอร์ปลายทาง\n",
    "                shutil.copyfile(image_path, destination_path)\n"
   ]
  }
 ],
 "metadata": {
  "kernelspec": {
   "display_name": "base",
   "language": "python",
   "name": "python3"
  },
  "language_info": {
   "codemirror_mode": {
    "name": "ipython",
    "version": 3
   },
   "file_extension": ".py",
   "mimetype": "text/x-python",
   "name": "python",
   "nbconvert_exporter": "python",
   "pygments_lexer": "ipython3",
   "version": "3.8.8"
  }
 },
 "nbformat": 4,
 "nbformat_minor": 2
}
